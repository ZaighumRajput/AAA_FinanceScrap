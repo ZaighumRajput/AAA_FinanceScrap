{
 "metadata": {
  "name": "",
  "signature": "sha256:a4059f2bd2a38e430e52f54e891830373b7be70edce269a0aaffa7ce02c2de15"
 },
 "nbformat": 3,
 "nbformat_minor": 0,
 "worksheets": [
  {
   "cells": [
    {
     "cell_type": "heading",
     "level": 1,
     "metadata": {},
     "source": [
      "Smith and Wilson Extrapolation"
     ]
    },
    {
     "cell_type": "heading",
     "level": 4,
     "metadata": {},
     "source": [
      "1) Calculate Forward Rates"
     ]
    },
    {
     "cell_type": "code",
     "collapsed": false,
     "input": [
      "import pandas as pd\n"
     ],
     "language": "python",
     "metadata": {},
     "outputs": [],
     "prompt_number": 2
    },
    {
     "cell_type": "code",
     "collapsed": false,
     "input": [
      "#Fetch spot curves\n",
      "SGPYieldCurve = pd.read_csv(\"YIELDCURVE-SGP.csv\", index_col=0) \n",
      "#FROM https://secure.sgs.gov.sg/fdanet/BenchmarkPricesAndYields.aspx via QUANDL\n",
      "SGPYieldCurve.ix[\"1/10/2013\"].plot(title=\"Yields\")\n",
      "\n",
      "GBPSwapCurve = pd.read_csv(\"GBPSwapRate.csv\", index_col=0)\n",
      "GBPSwapCurve.ix[\"31/01/2013\"].plot()\n",
      "#TODO: Add Legend"
     ],
     "language": "python",
     "metadata": {},
     "outputs": [
      {
       "metadata": {},
       "output_type": "pyout",
       "prompt_number": 22,
       "text": [
        "<matplotlib.axes._subplots.AxesSubplot at 0x7f97fd0>"
       ]
      },
      {
       "metadata": {},
       "output_type": "display_data",
       "png": "[encoded data removed]",
       "text": [
        "<matplotlib.figure.Figure at 0x7f978f0>"
       ]
      }
     ],
     "prompt_number": 22
    },
    {
     "cell_type": "code",
     "collapsed": false,
     "input": [
      "#Calculate forward rates\n"
     ],
     "language": "python",
     "metadata": {},
     "outputs": [],
     "prompt_number": 12
    },
    {
     "cell_type": "heading",
     "level": 4,
     "metadata": {},
     "source": [
      "2) Establish an Ultimate Forward Rate(UFR)"
     ]
    },
    {
     "cell_type": "code",
     "collapsed": false,
     "input": [
      "#Set which forward rate the curve tends to\n",
      "#Set rate of convergence"
     ],
     "language": "python",
     "metadata": {},
     "outputs": [],
     "prompt_number": 1
    },
    {
     "cell_type": "heading",
     "level": 4,
     "metadata": {},
     "source": [
      "3) Perform Smith-Wilson Algorithm"
     ]
    },
    {
     "cell_type": "code",
     "collapsed": false,
     "input": [
      "#"
     ],
     "language": "python",
     "metadata": {},
     "outputs": [],
     "prompt_number": 2
    },
    {
     "cell_type": "heading",
     "level": 4,
     "metadata": {},
     "source": [
      "4) Go back to Spot Rates"
     ]
    },
    {
     "cell_type": "code",
     "collapsed": false,
     "input": [],
     "language": "python",
     "metadata": {},
     "outputs": [],
     "prompt_number": 3
    },
    {
     "cell_type": "code",
     "collapsed": false,
     "input": [],
     "language": "python",
     "metadata": {},
     "outputs": []
    }
   ],
   "metadata": {}
  }
 ]
}