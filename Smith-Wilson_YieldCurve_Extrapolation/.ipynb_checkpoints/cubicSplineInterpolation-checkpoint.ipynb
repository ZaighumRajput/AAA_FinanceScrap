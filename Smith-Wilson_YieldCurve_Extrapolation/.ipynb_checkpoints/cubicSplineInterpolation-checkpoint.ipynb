{
 "metadata": {
  "name": "",
  "signature": "sha256:015c15d18a28424698ab6cdf94a96916a38d9935706205623787ee151023b05e"
 },
 "nbformat": 3,
 "nbformat_minor": 0,
 "worksheets": []
}