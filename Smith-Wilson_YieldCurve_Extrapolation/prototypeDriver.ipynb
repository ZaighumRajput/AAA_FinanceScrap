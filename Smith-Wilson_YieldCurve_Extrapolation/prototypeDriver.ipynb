{
 "metadata": {
  "name": "",
  "signature": "sha256:bc8594f7dd6c6c99fffa8c714c9d009a87597f23038ef0f46bed2d7516f00adb"
 },
 "nbformat": 3,
 "nbformat_minor": 0,
 "worksheets": [
  {
   "cells": [
    {
     "cell_type": "heading",
     "level": 1,
     "metadata": {},
     "source": [
      "Smith and Wilson Extrapolation"
     ]
    },
    {
     "cell_type": "heading",
     "level": 4,
     "metadata": {},
     "source": [
      "1) Calculate Forward Rates"
     ]
    },
    {
     "cell_type": "code",
     "collapsed": false,
     "input": [
      "import pandas as pd\n"
     ],
     "language": "python",
     "metadata": {},
     "outputs": [],
     "prompt_number": 25
    },
    {
     "cell_type": "code",
     "collapsed": false,
     "input": [
      "#Fetch spot curves\n",
      "SGPYieldCurve = pd.read_csv(\"YIELDCURVE-SGP.csv\", index_col=0) \n",
      "#FROM https://secure.sgs.gov.sg/fdanet/BenchmarkPricesAndYields.aspx via QUANDL\n",
      "SGPYieldCurve.ix[\"1/10/2013\"].plot(title=\"Spot Curves\")\n",
      "\n",
      "GBPSwapCurve = pd.read_csv(\"GBPSwapRate.csv\", index_col=0)\n",
      "GBPSwapCurve.ix[\"31/01/2013\"].plot()\n",
      "#TODO: Add Legend\n",
      "#TODO: Interpolation between dates?"
     ],
     "language": "python",
     "metadata": {},
     "outputs": [
      {
       "metadata": {},
       "output_type": "pyout",
       "prompt_number": 26,
       "text": [
        "<matplotlib.axes._subplots.AxesSubplot at 0x97646b0>"
       ]
      },
      {
       "metadata": {},
       "output_type": "display_data",
       "png": "[encoded data removed]",
       "text": [
        "<matplotlib.figure.Figure at 0x9764850>"
       ]
      }
     ],
     "prompt_number": 26
    },
    {
     "cell_type": "code",
     "collapsed": false,
     "input": [
      "#Calculate forward rates\n",
      "GBPSwapCurve.ix[\"31/01/2013\"].plot( style='ro')"
     ],
     "language": "python",
     "metadata": {},
     "outputs": [
      {
       "metadata": {},
       "output_type": "pyout",
       "prompt_number": 48,
       "text": [
        "<matplotlib.axes._subplots.AxesSubplot at 0xa528fb0>"
       ]
      },
      {
       "metadata": {},
       "output_type": "display_data",
       "png": "[encoded data removed]",
       "text": [
        "<matplotlib.figure.Figure at 0xa5346b0>"
       ]
      }
     ],
     "prompt_number": 48
    },
    {
     "cell_type": "heading",
     "level": 4,
     "metadata": {},
     "source": [
      "2) Establish an Ultimate Forward Rate(UFR)"
     ]
    },
    {
     "cell_type": "code",
     "collapsed": false,
     "input": [
      "#Set which forward rate the curve tends to\n",
      "#Set rate of convergence"
     ],
     "language": "python",
     "metadata": {},
     "outputs": [],
     "prompt_number": 28
    },
    {
     "cell_type": "heading",
     "level": 4,
     "metadata": {},
     "source": [
      "3) Perform Smith-Wilson Algorithm"
     ]
    },
    {
     "cell_type": "code",
     "collapsed": false,
     "input": [
      "#"
     ],
     "language": "python",
     "metadata": {},
     "outputs": [],
     "prompt_number": 29
    },
    {
     "cell_type": "heading",
     "level": 4,
     "metadata": {},
     "source": [
      "4) Go back to Spot Rates"
     ]
    },
    {
     "cell_type": "code",
     "collapsed": false,
     "input": [],
     "language": "python",
     "metadata": {},
     "outputs": [],
     "prompt_number": 29
    },
    {
     "cell_type": "code",
     "collapsed": false,
     "input": [],
     "language": "python",
     "metadata": {},
     "outputs": [],
     "prompt_number": 29
    }
   ],
   "metadata": {}
  }
 ]
}